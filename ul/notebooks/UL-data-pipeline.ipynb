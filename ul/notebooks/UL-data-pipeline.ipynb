{
 "cells": [
  {
   "cell_type": "markdown",
   "metadata": {},
   "source": [
    "# Brief overview of (1) the data and (2) the process of cleaning it"
   ]
  },
  {
   "cell_type": "markdown",
   "metadata": {},
   "source": [
    "In this study, we're investigating historic public transport data from 2020-01-01 to 2020-01-31 in the UL network. We have recieved the raw data from RISE and their research project called KoDa (Kollektivtrafikens Datalab).\n",
    "\n",
    "To simplify things, we have two types of data;\n",
    "* static metadata, i.e. data about trips, routes, stops and scheduling\n",
    "* historic data, i.e. dynamic / realtime data saved every ~15 seconds during the month of january. This results in ~5700 files (API responses) per day.\n",
    "\n",
    "See directory structure below."
   ]
  },
  {
   "cell_type": "raw",
   "metadata": {},
   "source": [
    ".\n",
    "├── STATIC // one directory per day with GTFS static data files\n",
    "│   ├── 01\n",
    "│   │   ├── agency.txt\n",
    "│   │   ├── calendar.txt\n",
    "│   │   ├── calendar_dates.txt\n",
    "│   │   ├── feed_info.txt\n",
    "│   │   ├── routes.txt\n",
    "│   │   ├── shapes.txt\n",
    "│   │   ├── stop_times.txt\n",
    "│   │   ├── stops.txt\n",
    "│   │   ├── transfers.txt\n",
    "│   │   └── trips.txt\n",
    "│   ├── 02\n",
    "│   │   ├── agency.txt\n",
    "│   │   ├── calendar.txt\n",
    "│   │   ├── calendar_dates.txt\n",
    "│   │   ├── feed_info.txt\n",
    "│   │   ├── routes.txt\n",
    "│   │   ├── shapes.txt\n",
    "│   │   ├── stop_times.txt\n",
    "│   │   ├── stops.txt\n",
    "│   │   ├── transfers.txt\n",
    "│   │   └── trips.txt\n",
    ".   .\n",
    ".   .\n",
    ".   .\n",
    "│   └── 31\n",
    "│       ├── agency.txt\n",
    "│       ├── calendar.txt\n",
    "│       ├── calendar_dates.txt\n",
    "│       ├── feed_info.txt\n",
    "│       ├── routes.txt\n",
    "│       ├── shapes.txt\n",
    "│       ├── stop_times.txt\n",
    "│       ├── stops.txt\n",
    "│       ├── transfers.txt\n",
    "│       └── trips.txt\n",
    "│\n",
    "│\n",
    "│\n",
    "│\n",
    "└── HISTORIC // one directory per day in month with gzipped protobuf files\n",
    "    ├── 01 [5761 entries in dir]\n",
    "        ├── 1578524431534.gzip\n",
    "        ├── 1578524431535.gzip\n",
    "        .\n",
    "        .\n",
    "        .\n",
    "        └── 1578524434553.gzip\n",
    "    ├── 02 [5761 entries in dir]\n",
    "        ├── 1578524431524.gzip\n",
    "        ├── 1578524431525.gzip\n",
    "        .\n",
    "        .\n",
    "        .\n",
    "        └── 1578524434563.gzip\n",
    "    .\n",
    "    .\n",
    "    .\n",
    "    └── 31 [5761 entries in dir]\n",
    "        ├── 1578524431514.gzip\n",
    "        ├── 1578524431515.gzip\n",
    "        .\n",
    "        .\n",
    "        .\n",
    "        └── 1578524434583.gzip"
   ]
  },
  {
   "cell_type": "markdown",
   "metadata": {},
   "source": [
    "### The GTFS Realtime Protobuf format\n",
    "\n",
    "Each one of the ~5760 files for each day / directory in the HISTORIC branch above is on the GTFS Realtime Protobuf format.\n",
    "\n",
    "A GTFS Realtime feed lets transit agencies (such as UL or SL) provide consumers with realtime information about disruptions to their service (stations closed, lines not operating, important delays, etc.) location of their vehicles, and expected arrival times.\n",
    "\n",
    "See generic format for these protobuf files below."
   ]
  },
  {
   "cell_type": "code",
   "execution_count": null,
   "metadata": {},
   "outputs": [],
   "source": [
    "# entity containing update information for a trip\n",
    "entity {\n",
    "  # unique identifier for the entity\n",
    "  id: \"1\"\n",
    "\n",
    "  trip_update {\n",
    "      \n",
    "    trip {\n",
    "      trip_id: \"trip-1\"\n",
    "    }\n",
    "\n",
    "    stop_time_update {\n",
    "      stop_sequence: 3\n",
    "      arrival {\n",
    "        delay: 5\n",
    "      }\n",
    "    }\n",
    "\n",
    "    stop_time_update {\n",
    "      stop_sequence: 8\n",
    "      arrival {\n",
    "        delay: 1\n",
    "      }\n",
    "    }\n",
    "\n",
    "    stop_time_update {\n",
    "      stop_sequence: 10\n",
    "    }\n",
    "      \n",
    "  }\n",
    "}\n",
    "\n",
    "# second entity containing update information for another trip\n",
    "entity {\n",
    "  id: \"2\"\n",
    "    \n",
    "  trip_update {\n",
    "      \n",
    "    trip {\n",
    "      trip_id: \"trip-2\"\n",
    "    }\n",
    "      \n",
    "    stop_time_update {\n",
    "      stop_sequence: 1\n",
    "      arrival {\n",
    "        delay: -2\n",
    "      }\n",
    "    }\n",
    "      \n",
    "    stop_time_update {\n",
    "      stop_sequence: 9\n",
    "    }\n",
    "      \n",
    "  }\n",
    "}"
   ]
  },
  {
   "cell_type": "code",
   "execution_count": 2,
   "metadata": {},
   "outputs": [
    {
     "ename": "SyntaxError",
     "evalue": "invalid syntax (<ipython-input-2-c1078b1829c6>, line 1)",
     "output_type": "error",
     "traceback": [
      "\u001b[0;36m  File \u001b[0;32m\"<ipython-input-2-c1078b1829c6>\"\u001b[0;36m, line \u001b[0;32m1\u001b[0m\n\u001b[0;31m    Cleaning out the delays for each edge (between two nodes / stations) and trip\u001b[0m\n\u001b[0m               ^\u001b[0m\n\u001b[0;31mSyntaxError\u001b[0m\u001b[0;31m:\u001b[0m invalid syntax\n"
     ]
    }
   ],
   "source": [
    "Cleaning out the delays for each edge (between two nodes / stations) and trip"
   ]
  },
  {
   "cell_type": "code",
   "execution_count": null,
   "metadata": {},
   "outputs": [],
   "source": []
  }
 ],
 "metadata": {
  "kernelspec": {
   "display_name": "Python 3",
   "language": "python",
   "name": "python3"
  },
  "language_info": {
   "codemirror_mode": {
    "name": "ipython",
    "version": 3
   },
   "file_extension": ".py",
   "mimetype": "text/x-python",
   "name": "python",
   "nbconvert_exporter": "python",
   "pygments_lexer": "ipython3",
   "version": "3.7.4"
  }
 },
 "nbformat": 4,
 "nbformat_minor": 2
}
