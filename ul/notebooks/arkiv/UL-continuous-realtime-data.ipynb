{
 "cells": [
  {
   "cell_type": "markdown",
   "metadata": {},
   "source": [
    "# Continuous request every 3 seconds to UL API\n",
    "* Saved to vehicleDict with timestamp as key and all corresponding vehicle data as a list (value)\n",
    "* Only including vehicles assigned to a trip"
   ]
  },
  {
   "cell_type": "code",
   "execution_count": null,
   "metadata": {},
   "outputs": [],
   "source": [
    "from google.transit import gtfs_realtime_pb2\n",
    "import sched, time\n",
    "import requests\n",
    "\n",
    "s = sched.scheduler(time.time, time.sleep)\n",
    "\n",
    "vehicleDict = {}\n",
    "\n",
    "def requestVehiclePositions(sc): \n",
    "    feed = gtfs_realtime_pb2.FeedMessage()\n",
    "    response = requests.get('https://opendata.samtrafiken.se/ul/VehiclePositions.pb?key=8e90cd12622a49449e473869721ca908')\n",
    "    feed.ParseFromString(response.content)\n",
    "    \n",
    "    vehicleDict[feed.header.timestamp]=[]\n",
    "    \n",
    "    for entity in feed.entity:\n",
    "        if entity.vehicle.trip.trip_id:       \n",
    "            vehicleDict[feed.header.timestamp].append({\n",
    "                                'vehicleID':entity.id,\n",
    "                                'trip':entity.vehicle.trip.trip_id,\n",
    "                                'lat':entity.vehicle.position.latitude,\n",
    "                                'lon':entity.vehicle.position.longitude,\n",
    "                                'speed':entity.vehicle.position.speed,\n",
    "                                'bearing':entity.vehicle.position.bearing,\n",
    "                                'timestamp':entity.vehicle.timestamp\n",
    "                               })\n",
    "        s.enter(3, 1, requestVehiclePositions, (sc,))\n",
    "\n",
    "s.enter(3, 1, requestVehiclePositions, (s,))\n",
    "s.run()"
   ]
  },
  {
   "cell_type": "markdown",
   "metadata": {},
   "source": [
    "### Entity example"
   ]
  },
  {
   "cell_type": "code",
   "execution_count": 37,
   "metadata": {},
   "outputs": [
    {
     "ename": "SyntaxError",
     "evalue": "invalid syntax (<ipython-input-37-31819ff148c5>, line 2)",
     "output_type": "error",
     "traceback": [
      "\u001b[0;36m  File \u001b[0;32m\"<ipython-input-37-31819ff148c5>\"\u001b[0;36m, line \u001b[0;32m2\u001b[0m\n\u001b[0;31m    vehicle {\u001b[0m\n\u001b[0m            ^\u001b[0m\n\u001b[0;31mSyntaxError\u001b[0m\u001b[0;31m:\u001b[0m invalid syntax\n"
     ]
    }
   ],
   "source": [
    "id: \"273264818\"\n",
    "vehicle {\n",
    "  trip {\n",
    "    trip_id: \"33010000131097724\"\n",
    "    schedule_relationship: SCHEDULED\n",
    "  }\n",
    "  position {\n",
    "    latitude: 59.862300872802734\n",
    "    longitude: 17.61636734008789\n",
    "    bearing: 307.0\n",
    "    speed: 6.900000095367432\n",
    "  }\n",
    "  timestamp: 1582290372\n",
    "  vehicle {\n",
    "    id: \"9031003000500833\"\n",
    "  }\n",
    "}"
   ]
  },
  {
   "cell_type": "markdown",
   "metadata": {},
   "source": [
    "### Speed density calculation for all vehicles"
   ]
  },
  {
   "cell_type": "code",
   "execution_count": 34,
   "metadata": {
    "scrolled": true
   },
   "outputs": [
    {
     "data": {
      "text/plain": [
       "Text(0, 0.5, 'Number of vehicles')"
      ]
     },
     "execution_count": 34,
     "metadata": {},
     "output_type": "execute_result"
    },
    {
     "data": {
      "image/png": "[encoded data removed]",
      "text/plain": [
       "<Figure size 432x288 with 1 Axes>"
      ]
     },
     "metadata": {
      "needs_background": "light"
     },
     "output_type": "display_data"
    }
   ],
   "source": [
    "import matplotlib.pyplot as plt\n",
    "import seaborn as sns\n",
    "\n",
    "speedDensity = []\n",
    "\n",
    "for key in vehicleDict:\n",
    "    for vehicle in vehicleDict[key]:\n",
    "        speedDensity.append(vehicle['speed'])\n",
    "\n",
    "plt.hist(speedDensity, color = 'blue', edgecolor = 'black',\n",
    "         bins = 15)\n",
    "plt.xlabel('Speed [m/s]')\n",
    "plt.ylabel('Number of vehicles')"
   ]
  },
  {
   "cell_type": "code",
   "execution_count": null,
   "metadata": {},
   "outputs": [],
   "source": []
  },
  {
   "cell_type": "code",
   "execution_count": null,
   "metadata": {},
   "outputs": [],
   "source": []
  }
 ],
 "metadata": {
  "kernelspec": {
   "display_name": "Python 3",
   "language": "python",
   "name": "python3"
  },
  "language_info": {
   "codemirror_mode": {
    "name": "ipython",
    "version": 3
   },
   "file_extension": ".py",
   "mimetype": "text/x-python",
   "name": "python",
   "nbconvert_exporter": "python",
   "pygments_lexer": "ipython3",
   "version": "3.7.4"
  }
 },
 "nbformat": 4,
 "nbformat_minor": 2
}
