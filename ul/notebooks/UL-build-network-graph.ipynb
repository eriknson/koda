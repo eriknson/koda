{
 "cells": [
  {
   "cell_type": "markdown",
   "metadata": {},
   "source": [
    "# Graph representation for the UL network\n",
    "* import static data from files\n",
    "* use networkx (and plotly) to represent data as nodes & edges"
   ]
  },
  {
   "cell_type": "code",
   "execution_count": 4,
   "metadata": {},
   "outputs": [],
   "source": [
    "import csv\n",
    "\n",
    "stops = {}\n",
    "stopsOnTrip = {}\n",
    "routeStations = {}\n",
    "routeTrips = {}\n",
    "tripRoute = {}\n",
    "routeShortNames = {}\n",
    "\n",
    "with open('../gtfs_static_data_ul/stops.csv') as file:\n",
    "    reader = csv.DictReader(file)\n",
    "    # Create dictionary key for each row in stops.csv with values on name, latitude and longitude\n",
    "    for row in reader:\n",
    "        stops[row['stop_id']] = {'stop_id': row['stop_id'], 'stop_name': row['stop_name'],\n",
    "                                 'stop_lat': row['stop_lat'], 'stop_lon': row['stop_lon']}\n",
    "\n",
    "with open('../gtfs_static_data_ul/stop_times.csv') as file:\n",
    "    reader1 = csv.DictReader(file)\n",
    "    # Loops through stop_times.csv and creates dictionary with stops per unique trip\n",
    "    for row in reader1:\n",
    "        stopsOnTrip.setdefault(row['trip_id'],[]).append(stops[row['stop_id']])\n",
    "        \n",
    "with open('../gtfs_static_data_ul/trips.csv') as file:\n",
    "    reader3 = csv.DictReader(file)\n",
    "    # Creates a dictionary with all unique trip_id:s per unique route_id\n",
    "    for row in reader3:\n",
    "        routeTrips.setdefault((row['direction_id'],row['route_id']),[]).append(row['trip_id'])\n",
    "        \n",
    "with open('../gtfs_static_data_ul/routes.csv') as file:\n",
    "    reader4 = csv.DictReader(file)\n",
    "    # Creates a dictionary with all unique route_id:s and corresponding route_short_name\n",
    "    for row in reader4:\n",
    "        routeShortNames.setdefault(row['route_id'],[]).append(row['route_short_name'])\n",
    "        \n",
    "with open('../gtfs_static_data_ul/trips.csv') as file:\n",
    "    reader5 = csv.DictReader(file)\n",
    "    # Creates a dictionary with all unique trip_id:s per unique route_id\n",
    "    for row in reader5:\n",
    "        tripRoute[row['trip_id']] = { 'route':row['route_id'],'direction':row['direction_id'] }\n",
    "        \n",
    "    # Creates dictionary with all station data per route\n",
    "for route in routeTrips:\n",
    "    routeStations[route] = { 'stops': stopsOnTrip[routeTrips[route][0]] }\n",
    "    #routeStations.setdefault([route],[]).append(stopsOnTrip[routeTrips[route][0]])"
   ]
  },
  {
   "cell_type": "markdown",
   "metadata": {},
   "source": [
    "## Creating of graph using networkx\n",
    "* 5116 nodes\n",
    "* 6229 edges\n",
    "* 414 routes in total."
   ]
  },
  {
   "cell_type": "code",
   "execution_count": 5,
   "metadata": {},
   "outputs": [
    {
     "data": {
      "text/plain": [
       "'temp-plot.html'"
      ]
     },
     "execution_count": 5,
     "metadata": {},
     "output_type": "execute_result"
    }
   ],
   "source": [
    "import networkx as nx\n",
    "import matplotlib.pyplot as plt\n",
    "import plotly.graph_objects as go\n",
    "from plotly.offline import plot\n",
    "\n",
    "edgeList = []\n",
    "locDict = {}\n",
    "graphObject = nx.DiGraph()\n",
    "edge_x = []\n",
    "edge_y = []\n",
    "node_adjacencies = []\n",
    "node_text = []\n",
    "\n",
    "# Create list of all edges in the network\n",
    "for routeID in routeStations.keys():\n",
    "    for (i,stop) in enumerate(routeStations[routeID]['stops']):\n",
    "        if i+1 < len(routeStations[routeID]['stops']):\n",
    "            edgeList.append((routeStations[routeID]['stops'][i]['stop_id'], \n",
    "                     routeStations[routeID]['stops'][i+1]['stop_id']))\n",
    "\n",
    "# Create edges (and indirectly nodes) for the graphObject\n",
    "for edge in edgeList:\n",
    "    graphObject.add_edge(edge[0],edge[1],weight=1)\n",
    "\n",
    "# Establish dictionary with location data for stops in the network.\n",
    "# One key per node and value as (lon, lat)\n",
    "for node in graphObject.nodes():\n",
    "    locDict[node]=(stops[node]['stop_lon'],stops[node]['stop_lat'])\n",
    "\n",
    "# Loop through each edge in edgeList and add location data (x0,y0,x1,y1)\n",
    "for edge in edgeList:\n",
    "    x0, y0 = (stops[edge[0]]['stop_lon'],stops[edge[0]]['stop_lat'])\n",
    "    x1, y1 = (stops[edge[1]]['stop_lon'],stops[edge[1]]['stop_lat'])\n",
    "    \n",
    "    edge_x.append(x0)\n",
    "    edge_x.append(x1)\n",
    "    edge_x.append(None)\n",
    "    \n",
    "    edge_y.append(y0)\n",
    "    edge_y.append(y1)\n",
    "    edge_y.append(None)\n",
    "\n",
    "# Visualize edges using plotly graph_objects method Scatter()\n",
    "edge_trace = go.Scatter(\n",
    "    x=edge_x, y=edge_y,\n",
    "    line=dict(width=0.5, color='#888'),\n",
    "    hoverinfo='none',\n",
    "    mode='lines')\n",
    "\n",
    "# Loop through each node in graphObject and add location data (x,y)\n",
    "node_x = []\n",
    "node_y = []\n",
    "for node in graphObject.nodes():\n",
    "    x, y = (stops[node]['stop_lon'],stops[node]['stop_lat'])\n",
    "    node_x.append(x)\n",
    "    node_y.append(y)\n",
    "\n",
    "# Visualize nodes using plotly graph_objects method Scatter()\n",
    "node_trace = go.Scatter(\n",
    "    x=node_x, y=node_y,\n",
    "    mode='markers',\n",
    "    hoverinfo='text',\n",
    "    marker=dict(\n",
    "        showscale=True,\n",
    "        colorscale='YlGnBu',\n",
    "        reversescale=True,\n",
    "        color=[],\n",
    "        size=10,\n",
    "        colorbar=dict(\n",
    "            thickness=15,\n",
    "            title='Node Connections',\n",
    "            xanchor='left',\n",
    "            titleside='right'\n",
    "        ),\n",
    "        line_width=2))\n",
    "\n",
    "# Count each nodes' adjencies in order to color code it\n",
    "for node, adjacencies in enumerate(graphObject.adjacency()):\n",
    "    node_adjacencies.append(len(adjacencies[1]))\n",
    "\n",
    "# Loop through each node and add its stop_name as text on hover\n",
    "for i, node_id in enumerate(graphObject.nodes()):\n",
    "    node_text.append(stops[node_id]['stop_name'] + ' ' + str(stops[node_id]['stop_id']))\n",
    "\n",
    "# Connect the metadata variables to the node_trace go.Scatter() object \n",
    "node_trace.marker.color = node_adjacencies\n",
    "node_trace.text = node_text\n",
    "\n",
    "# Visualize everything in the figure\n",
    "fig = go.Figure(data=[edge_trace, node_trace],\n",
    "             layout=go.Layout(\n",
    "                title='<br>Uppsala Public Transport Network',\n",
    "                titlefont_size=16,\n",
    "                showlegend=False,\n",
    "                hovermode='closest',\n",
    "                margin=dict(b=20,l=5,r=5,t=40),\n",
    "                annotations=[ dict(\n",
    "                    text=\"Python code: <a href='https://plot.ly/ipython-notebooks/network-graphs/'> https://plot.ly/ipython-notebooks/network-graphs/</a>\",\n",
    "                    showarrow=False,\n",
    "                    xref=\"paper\", yref=\"paper\",\n",
    "                    x=0.005, y=-0.002 ) ],\n",
    "                xaxis=dict(showgrid=False, zeroline=False, showticklabels=False),\n",
    "                yaxis=dict(showgrid=False, zeroline=False, showticklabels=False))\n",
    "                )\n",
    "plot(fig, auto_open=True)"
   ]
  },
  {
   "cell_type": "code",
   "execution_count": 8,
   "metadata": {},
   "outputs": [
    {
     "data": {
      "text/plain": [
       "5145"
      ]
     },
     "execution_count": 8,
     "metadata": {},
     "output_type": "execute_result"
    }
   ],
   "source": [
    "len(graphObject.nodes())"
   ]
  },
  {
   "cell_type": "code",
   "execution_count": null,
   "metadata": {},
   "outputs": [],
   "source": []
  }
 ],
 "metadata": {
  "kernelspec": {
   "display_name": "Python 3",
   "language": "python",
   "name": "python3"
  },
  "language_info": {
   "codemirror_mode": {
    "name": "ipython",
    "version": 3
   },
   "file_extension": ".py",
   "mimetype": "text/x-python",
   "name": "python",
   "nbconvert_exporter": "python",
   "pygments_lexer": "ipython3",
   "version": "3.7.4"
  }
 },
 "nbformat": 4,
 "nbformat_minor": 4
}
