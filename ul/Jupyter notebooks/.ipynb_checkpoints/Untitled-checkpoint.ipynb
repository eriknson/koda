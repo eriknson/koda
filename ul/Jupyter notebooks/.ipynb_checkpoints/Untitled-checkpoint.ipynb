{
 "cells": [
  {
   "cell_type": "code",
   "execution_count": null,
   "metadata": {},
   "outputs": [],
   "source": [
    "from google.transit import gtfs_realtime_pb2\n",
    "import requests\n",
    "\n",
    "vehicleDict = {}\n",
    "\n",
    "feed = gtfs_realtime_pb2.FeedMessage()\n",
    "response = requests.get('https://opendata.samtrafiken.se/ul/VehiclePositions.pb?key=8e90cd12622a49449e473869721ca908')\n",
    "feed.ParseFromString(response.content)\n",
    "for entity in feed.entity:\n",
    "    vehicleDict[entity.id]={\n",
    "                            'trip':entity.vehicle.trip.trip_id,\n",
    "                            'lat':entity.vehicle.position.latitude,\n",
    "                            'lon':entity.vehicle.position.longitude,\n",
    "                            'speed':entity.vehicle.position.speed,\n",
    "                            'bearing':entity.vehicle.position.bearing,\n",
    "                            'timestamp':entity.vehicle.timestamp\n",
    "                           }\n",
    "    print(entity)"
   ]
  }
 ],
 "metadata": {
  "kernelspec": {
   "display_name": "Python 3",
   "language": "python",
   "name": "python3"
  },
  "language_info": {
   "codemirror_mode": {
    "name": "ipython",
    "version": 3
   },
   "file_extension": ".py",
   "mimetype": "text/x-python",
   "name": "python",
   "nbconvert_exporter": "python",
   "pygments_lexer": "ipython3",
   "version": "3.7.4"
  }
 },
 "nbformat": 4,
 "nbformat_minor": 4
}
