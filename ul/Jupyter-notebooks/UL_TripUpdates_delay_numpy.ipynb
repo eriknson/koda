{
 "cells": [
  {
   "cell_type": "code",
   "execution_count": 274,
   "metadata": {},
   "outputs": [],
   "source": [
    "import csv\n",
    "\n",
    "stops = {}\n",
    "stopsOnTrip = {}\n",
    "routeStations = {}\n",
    "routeTrips = {}\n",
    "tripRoute = {}\n",
    "routeShortNames = {}\n",
    "\n",
    "with open('../gtfs_static_data_ul/stops.csv') as file:\n",
    "    reader = csv.DictReader(file)\n",
    "    # Create dictionary key for each row in stops.csv with values on name, latitude and longitude\n",
    "    for row in reader:\n",
    "        stops[row['stop_id']] = {'stop_id': row['stop_id'], 'stop_name': row['stop_name'],\n",
    "                                 'stop_lat': row['stop_lat'], 'stop_lon': row['stop_lon']}\n",
    "\n",
    "with open('../gtfs_static_data_ul/stop_times.csv') as file:\n",
    "    reader1 = csv.DictReader(file)\n",
    "    # Loops through stop_times.csv and creates dictionary with stops per unique trip\n",
    "    for row in reader1:\n",
    "        stopsOnTrip.setdefault(row['trip_id'],[]).append(stops[row['stop_id']])\n",
    "        \n",
    "with open('../gtfs_static_data_ul/trips.csv') as file:\n",
    "    reader3 = csv.DictReader(file)\n",
    "    # Creates a dictionary with all unique trip_id:s per unique route_id\n",
    "    for row in reader3:\n",
    "        routeTrips.setdefault((row['direction_id'],row['route_id']),[]).append(row['trip_id'])\n",
    "        \n",
    "with open('../gtfs_static_data_ul/routes.csv') as file:\n",
    "    reader4 = csv.DictReader(file)\n",
    "    # Creates a dictionary with all unique route_id:s and corresponding route_short_name\n",
    "    for row in reader4:\n",
    "        routeShortNames.setdefault(row['route_id'],[]).append(row['route_short_name'])\n",
    "        \n",
    "with open('../gtfs_static_data_ul/trips.csv') as file:\n",
    "    reader5 = csv.DictReader(file)\n",
    "    # Creates a dictionary with all unique trip_id:s per unique route_id\n",
    "    for row in reader5:\n",
    "        tripRoute[row['trip_id']] = { 'route':row['route_id'],'direction':row['direction_id'] }\n",
    "        \n",
    "    # Creates dictionary with all station data per route\n",
    "for route in routeTrips:\n",
    "    routeStations[route] = { 'stops': stopsOnTrip[routeTrips[route][0]] }"
   ]
  },
  {
   "cell_type": "code",
   "execution_count": 288,
   "metadata": {},
   "outputs": [
    {
     "name": "stdout",
     "output_type": "stream",
     "text": [
      "Filename: 1580424781404 Trips: 91\n"
     ]
    },
    {
     "ename": "KeyError",
     "evalue": "'33010000129962895'",
     "output_type": "error",
     "traceback": [
      "\u001b[0;31m---------------------------------------------------------------------------\u001b[0m",
      "\u001b[0;31mKeyError\u001b[0m                                  Traceback (most recent call last)",
      "\u001b[0;32m<ipython-input-288-9a93395769d8>\u001b[0m in \u001b[0;36m<module>\u001b[0;34m\u001b[0m\n\u001b[1;32m     19\u001b[0m \u001b[0;34m\u001b[0m\u001b[0m\n\u001b[1;32m     20\u001b[0m         \u001b[0;32mfor\u001b[0m \u001b[0mtrip\u001b[0m \u001b[0;32min\u001b[0m \u001b[0mfeed\u001b[0m\u001b[0;34m.\u001b[0m\u001b[0mentity\u001b[0m\u001b[0;34m:\u001b[0m\u001b[0;34m\u001b[0m\u001b[0;34m\u001b[0m\u001b[0m\n\u001b[0;32m---> 21\u001b[0;31m             \u001b[0;32mif\u001b[0m \u001b[0;34m(\u001b[0m\u001b[0mlen\u001b[0m\u001b[0;34m(\u001b[0m\u001b[0mtrip\u001b[0m\u001b[0;34m.\u001b[0m\u001b[0mtrip_update\u001b[0m\u001b[0;34m.\u001b[0m\u001b[0mstop_time_update\u001b[0m\u001b[0;34m)\u001b[0m\u001b[0;34m-\u001b[0m\u001b[0;36m1\u001b[0m\u001b[0;34m==\u001b[0m\u001b[0mlen\u001b[0m\u001b[0;34m(\u001b[0m\u001b[0mstopsOnTrip\u001b[0m\u001b[0;34m[\u001b[0m\u001b[0mtrip\u001b[0m\u001b[0;34m.\u001b[0m\u001b[0mtrip_update\u001b[0m\u001b[0;34m.\u001b[0m\u001b[0mtrip\u001b[0m\u001b[0;34m.\u001b[0m\u001b[0mtrip_id\u001b[0m\u001b[0;34m]\u001b[0m\u001b[0;34m)\u001b[0m\u001b[0;34m)\u001b[0m\u001b[0;34m:\u001b[0m\u001b[0;34m\u001b[0m\u001b[0;34m\u001b[0m\u001b[0m\n\u001b[0m\u001b[1;32m     22\u001b[0m                 \u001b[0mprint\u001b[0m\u001b[0;34m(\u001b[0m\u001b[0mtrip\u001b[0m\u001b[0;34m.\u001b[0m\u001b[0mtrip_update\u001b[0m\u001b[0;34m.\u001b[0m\u001b[0mtrip\u001b[0m\u001b[0;34m.\u001b[0m\u001b[0mtrip_id\u001b[0m\u001b[0;34m,\u001b[0m \u001b[0mlen\u001b[0m\u001b[0;34m(\u001b[0m\u001b[0mtrip\u001b[0m\u001b[0;34m.\u001b[0m\u001b[0mtrip_update\u001b[0m\u001b[0;34m.\u001b[0m\u001b[0mstop_time_update\u001b[0m\u001b[0;34m)\u001b[0m\u001b[0;34m,\u001b[0m\u001b[0;34m\"av\"\u001b[0m\u001b[0;34m,\u001b[0m\u001b[0mlen\u001b[0m\u001b[0;34m(\u001b[0m\u001b[0mstopsOnTrip\u001b[0m\u001b[0;34m[\u001b[0m\u001b[0mtrip\u001b[0m\u001b[0;34m.\u001b[0m\u001b[0mtrip_update\u001b[0m\u001b[0;34m.\u001b[0m\u001b[0mtrip\u001b[0m\u001b[0;34m.\u001b[0m\u001b[0mtrip_id\u001b[0m\u001b[0;34m]\u001b[0m\u001b[0;34m)\u001b[0m\u001b[0;34m)\u001b[0m\u001b[0;34m\u001b[0m\u001b[0;34m\u001b[0m\u001b[0m\n\u001b[1;32m     23\u001b[0m                 \u001b[0;32mfor\u001b[0m \u001b[0mi\u001b[0m\u001b[0;34m,\u001b[0m \u001b[0mstop_time_update\u001b[0m \u001b[0;32min\u001b[0m \u001b[0menumerate\u001b[0m\u001b[0;34m(\u001b[0m\u001b[0mtrip\u001b[0m\u001b[0;34m.\u001b[0m\u001b[0mtrip_update\u001b[0m\u001b[0;34m.\u001b[0m\u001b[0mstop_time_update\u001b[0m\u001b[0;34m)\u001b[0m\u001b[0;34m:\u001b[0m\u001b[0;34m\u001b[0m\u001b[0;34m\u001b[0m\u001b[0m\n",
      "\u001b[0;31mKeyError\u001b[0m: '33010000129962895'"
     ]
    }
   ],
   "source": [
    "from google.transit import gtfs_realtime_pb2\n",
    "import gzip\n",
    "import os\n",
    "import datetime\n",
    "\n",
    "directory = '../data/30-small/'\n",
    "datapoints = np.zeros((0,3), int)\n",
    "\n",
    "# Loop through all files in directory\n",
    "for filename in os.listdir(directory):\n",
    "        \n",
    "    # Uncompress and parse protobuff-file using gtfs_realtime_pb2\n",
    "    with gzip.open(directory + filename, 'rb') as file:\n",
    "        response = file.read()\n",
    "        feed = gtfs_realtime_pb2.FeedMessage()\n",
    "        feed.ParseFromString(response)\n",
    "           \n",
    "        print(\"Filename: \" + filename, \"Trips: \" + str(len(feed.entity)))\n",
    "\n",
    "        for trip in feed.entity:\n",
    "            if (len(trip.trip_update.stop_time_update)-1==len(stopsOnTrip[trip.trip_update.trip.trip_id])):\n",
    "                print(trip.trip_update.trip.trip_id, len(trip.trip_update.stop_time_update),\"av\",len(stopsOnTrip[trip.trip_update.trip.trip_id]))\n",
    "                for i, stop_time_update in enumerate(trip.trip_update.stop_time_update):\n",
    "\n",
    "                    # Excluding the last stop as it does not have a \"departuring edge\"\n",
    "                    if (i<len(trip.trip_update.stop_time_update)-1):\n",
    "\n",
    "                        # Store contextual metadata for the unique delay data point\n",
    "                        ts = int(trip.trip_update.stop_time_update[i+1].arrival.time)\n",
    "                        key = int(str(trip.trip_update.stop_time_update[i].stop_id) + str(trip.trip_update.stop_time_update[i+1].stop_id))\n",
    "\n",
    "                        # Store the delay data point\n",
    "                        delay = int(trip.trip_update.stop_time_update[i+1].arrival.delay-trip.trip_update.stop_time_update[i].arrival.delay)\n",
    "                        datapoints = np.append(datapoints, np.array([[key,ts,delay]]), axis=0)"
   ]
  },
  {
   "cell_type": "code",
   "execution_count": 284,
   "metadata": {
    "scrolled": true
   },
   "outputs": [
    {
     "data": {
      "text/html": [
       "<div>\n",
       "<style scoped>\n",
       "    .dataframe tbody tr th:only-of-type {\n",
       "        vertical-align: middle;\n",
       "    }\n",
       "\n",
       "    .dataframe tbody tr th {\n",
       "        vertical-align: top;\n",
       "    }\n",
       "\n",
       "    .dataframe thead th {\n",
       "        text-align: right;\n",
       "    }\n",
       "</style>\n",
       "<table border=\"1\" class=\"dataframe\">\n",
       "  <thead>\n",
       "    <tr style=\"text-align: right;\">\n",
       "      <th></th>\n",
       "      <th>Edge</th>\n",
       "      <th>Timestamp</th>\n",
       "      <th>Delay</th>\n",
       "    </tr>\n",
       "  </thead>\n",
       "  <tbody>\n",
       "  </tbody>\n",
       "</table>\n",
       "</div>"
      ],
      "text/plain": [
       "Empty DataFrame\n",
       "Columns: [Edge, Timestamp, Delay]\n",
       "Index: []"
      ]
     },
     "execution_count": 284,
     "metadata": {},
     "output_type": "execute_result"
    }
   ],
   "source": [
    "import pandas as pd\n",
    "\n",
    "ID_col = datapoints[:,0]\n",
    "TS_col = pd.to_numeric(datapoints[:,1])\n",
    "Delay_col = pd.to_numeric(datapoints[:,2])\n",
    "\n",
    "d = {'Edge': ID_col, 'Timestamp': TS_col, 'Delay': Delay_col}\n",
    "\n",
    "df = pd.DataFrame(data=d)\n",
    "df = pd.DataFrame.drop_duplicates(df)\n",
    "df"
   ]
  },
  {
   "cell_type": "code",
   "execution_count": 231,
   "metadata": {},
   "outputs": [
    {
     "data": {
      "text/html": [
       "<div>\n",
       "<style scoped>\n",
       "    .dataframe tbody tr th:only-of-type {\n",
       "        vertical-align: middle;\n",
       "    }\n",
       "\n",
       "    .dataframe tbody tr th {\n",
       "        vertical-align: top;\n",
       "    }\n",
       "\n",
       "    .dataframe thead th {\n",
       "        text-align: right;\n",
       "    }\n",
       "</style>\n",
       "<table border=\"1\" class=\"dataframe\">\n",
       "  <thead>\n",
       "    <tr style=\"text-align: right;\">\n",
       "      <th></th>\n",
       "      <th>Edge</th>\n",
       "      <th>Timestamp</th>\n",
       "      <th>Delay</th>\n",
       "    </tr>\n",
       "  </thead>\n",
       "  <tbody>\n",
       "    <tr>\n",
       "      <td>1447</td>\n",
       "      <td>90220037003300069022003700552004</td>\n",
       "      <td>1580425107</td>\n",
       "      <td>1</td>\n",
       "    </tr>\n",
       "    <tr>\n",
       "      <td>6755</td>\n",
       "      <td>90220037003300069022003700552004</td>\n",
       "      <td>1580425139</td>\n",
       "      <td>-15</td>\n",
       "    </tr>\n",
       "    <tr>\n",
       "      <td>16982</td>\n",
       "      <td>90220037003300069022003700552004</td>\n",
       "      <td>1580425031</td>\n",
       "      <td>2</td>\n",
       "    </tr>\n",
       "  </tbody>\n",
       "</table>\n",
       "</div>"
      ],
      "text/plain": [
       "                                   Edge   Timestamp  Delay\n",
       "1447   90220037003300069022003700552004  1580425107      1\n",
       "6755   90220037003300069022003700552004  1580425139    -15\n",
       "16982  90220037003300069022003700552004  1580425031      2"
      ]
     },
     "execution_count": 231,
     "metadata": {},
     "output_type": "execute_result"
    }
   ],
   "source": [
    "df.loc[df['Edge'] == 90220037003300069022003700552004]"
   ]
  },
  {
   "cell_type": "code",
   "execution_count": 237,
   "metadata": {},
   "outputs": [
    {
     "data": {
      "text/plain": [
       "array([[0, 0, 0],\n",
       "       [0, 0, 0],\n",
       "       [0, 0, 0],\n",
       "       [0, 0, 0],\n",
       "       [0, 0, 0],\n",
       "       [0, 0, 0],\n",
       "       [0, 0, 0],\n",
       "       [0, 0, 0],\n",
       "       [0, 0, 0],\n",
       "       [0, 0, 0]])"
      ]
     },
     "execution_count": 237,
     "metadata": {},
     "output_type": "execute_result"
    }
   ],
   "source": [
    "arr = np.zeros((10,3),int)\n",
    "arr"
   ]
  },
  {
   "cell_type": "code",
   "execution_count": null,
   "metadata": {},
   "outputs": [],
   "source": []
  }
 ],
 "metadata": {
  "kernelspec": {
   "display_name": "Python 3",
   "language": "python",
   "name": "python3"
  },
  "language_info": {
   "codemirror_mode": {
    "name": "ipython",
    "version": 3
   },
   "file_extension": ".py",
   "mimetype": "text/x-python",
   "name": "python",
   "nbconvert_exporter": "python",
   "pygments_lexer": "ipython3",
   "version": "3.7.4"
  }
 },
 "nbformat": 4,
 "nbformat_minor": 2
}
