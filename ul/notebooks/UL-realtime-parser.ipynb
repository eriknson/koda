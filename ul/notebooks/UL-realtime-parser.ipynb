{
 "cells": [
  {
   "cell_type": "markdown",
   "metadata": {},
   "source": [
    "## Parses the GTFS real time data into dictionary"
   ]
  },
  {
   "cell_type": "code",
   "execution_count": null,
   "metadata": {},
   "outputs": [],
   "source": [
    "# https://opendata.samtrafiken.se/ul/VehiclePositions.pb?key=8e90cd12622a49449e473869721ca908"
   ]
  },
  {
   "cell_type": "code",
   "execution_count": 1,
   "metadata": {},
   "outputs": [],
   "source": [
    "from google.transit import gtfs_realtime_pb2\n",
    "import requests\n",
    "\n",
    "vehicleDict = {}\n",
    "\n",
    "feed = gtfs_realtime_pb2.FeedMessage()\n",
    "response = requests.get('https://opendata.samtrafiken.se/ul/VehiclePositions.pb?key=8e90cd12622a49449e473869721ca908')\n",
    "feed.ParseFromString(response.content)\n",
    "for entity in feed.entity:\n",
    "    vehicleDict[entity.id]={\n",
    "                            'trip':entity.vehicle.trip.trip_id,\n",
    "                            'lat':entity.vehicle.position.latitude,\n",
    "                            'lon':entity.vehicle.position.longitude,\n",
    "                            'speed':entity.vehicle.position.speed,\n",
    "                            'timestamp':entity.vehicle.timestamp\n",
    "                           }"
   ]
  },
  {
   "cell_type": "code",
   "execution_count": null,
   "metadata": {},
   "outputs": [],
   "source": []
  },
  {
   "cell_type": "code",
   "execution_count": 81,
   "metadata": {},
   "outputs": [
    {
     "data": {
      "text/html": [
       "<div>\n",
       "<style scoped>\n",
       "    .dataframe tbody tr th:only-of-type {\n",
       "        vertical-align: middle;\n",
       "    }\n",
       "\n",
       "    .dataframe tbody tr th {\n",
       "        vertical-align: top;\n",
       "    }\n",
       "\n",
       "    .dataframe thead th {\n",
       "        text-align: right;\n",
       "    }\n",
       "</style>\n",
       "<table border=\"1\" class=\"dataframe\">\n",
       "  <thead>\n",
       "    <tr style=\"text-align: right;\">\n",
       "      <th></th>\n",
       "      <th>trip</th>\n",
       "      <th>lat</th>\n",
       "      <th>lon</th>\n",
       "      <th>speed</th>\n",
       "      <th>bearing</th>\n",
       "      <th>timestamp</th>\n",
       "    </tr>\n",
       "  </thead>\n",
       "  <tbody>\n",
       "    <tr>\n",
       "      <td>271126620</td>\n",
       "      <td></td>\n",
       "      <td>59.845139</td>\n",
       "      <td>17.725971</td>\n",
       "      <td>0.0</td>\n",
       "      <td>200.0</td>\n",
       "      <td>1582279558</td>\n",
       "    </tr>\n",
       "    <tr>\n",
       "      <td>271126451</td>\n",
       "      <td></td>\n",
       "      <td>60.143772</td>\n",
       "      <td>17.572660</td>\n",
       "      <td>0.0</td>\n",
       "      <td>224.0</td>\n",
       "      <td>1582279558</td>\n",
       "    </tr>\n",
       "    <tr>\n",
       "      <td>271126636</td>\n",
       "      <td>33010000131220820</td>\n",
       "      <td>59.857342</td>\n",
       "      <td>17.645958</td>\n",
       "      <td>0.0</td>\n",
       "      <td>312.0</td>\n",
       "      <td>1582279559</td>\n",
       "    </tr>\n",
       "    <tr>\n",
       "      <td>271124557</td>\n",
       "      <td>33010000129935296</td>\n",
       "      <td>59.864933</td>\n",
       "      <td>17.704517</td>\n",
       "      <td>10.8</td>\n",
       "      <td>55.0</td>\n",
       "      <td>1582279554</td>\n",
       "    </tr>\n",
       "    <tr>\n",
       "      <td>271126011</td>\n",
       "      <td></td>\n",
       "      <td>59.852455</td>\n",
       "      <td>17.724852</td>\n",
       "      <td>0.0</td>\n",
       "      <td>357.0</td>\n",
       "      <td>1582279555</td>\n",
       "    </tr>\n",
       "    <tr>\n",
       "      <td>...</td>\n",
       "      <td>...</td>\n",
       "      <td>...</td>\n",
       "      <td>...</td>\n",
       "      <td>...</td>\n",
       "      <td>...</td>\n",
       "      <td>...</td>\n",
       "    </tr>\n",
       "    <tr>\n",
       "      <td>271126597</td>\n",
       "      <td>33010000131282059</td>\n",
       "      <td>59.849552</td>\n",
       "      <td>17.708517</td>\n",
       "      <td>0.0</td>\n",
       "      <td>179.0</td>\n",
       "      <td>1582279560</td>\n",
       "    </tr>\n",
       "    <tr>\n",
       "      <td>271125750</td>\n",
       "      <td>33010000131097079</td>\n",
       "      <td>59.866817</td>\n",
       "      <td>17.608267</td>\n",
       "      <td>9.2</td>\n",
       "      <td>330.0</td>\n",
       "      <td>1582279558</td>\n",
       "    </tr>\n",
       "    <tr>\n",
       "      <td>271126609</td>\n",
       "      <td></td>\n",
       "      <td>59.852585</td>\n",
       "      <td>17.724348</td>\n",
       "      <td>0.0</td>\n",
       "      <td>166.0</td>\n",
       "      <td>1582279560</td>\n",
       "    </tr>\n",
       "    <tr>\n",
       "      <td>271126517</td>\n",
       "      <td></td>\n",
       "      <td>59.855633</td>\n",
       "      <td>17.650518</td>\n",
       "      <td>0.0</td>\n",
       "      <td>45.0</td>\n",
       "      <td>1582279558</td>\n",
       "    </tr>\n",
       "    <tr>\n",
       "      <td>271123448</td>\n",
       "      <td></td>\n",
       "      <td>59.852467</td>\n",
       "      <td>17.653549</td>\n",
       "      <td>0.0</td>\n",
       "      <td>0.0</td>\n",
       "      <td>1582279549</td>\n",
       "    </tr>\n",
       "  </tbody>\n",
       "</table>\n",
       "<p>463 rows × 6 columns</p>\n",
       "</div>"
      ],
      "text/plain": [
       "                        trip        lat        lon  speed  bearing   timestamp\n",
       "271126620                     59.845139  17.725971    0.0    200.0  1582279558\n",
       "271126451                     60.143772  17.572660    0.0    224.0  1582279558\n",
       "271126636  33010000131220820  59.857342  17.645958    0.0    312.0  1582279559\n",
       "271124557  33010000129935296  59.864933  17.704517   10.8     55.0  1582279554\n",
       "271126011                     59.852455  17.724852    0.0    357.0  1582279555\n",
       "...                      ...        ...        ...    ...      ...         ...\n",
       "271126597  33010000131282059  59.849552  17.708517    0.0    179.0  1582279560\n",
       "271125750  33010000131097079  59.866817  17.608267    9.2    330.0  1582279558\n",
       "271126609                     59.852585  17.724348    0.0    166.0  1582279560\n",
       "271126517                     59.855633  17.650518    0.0     45.0  1582279558\n",
       "271123448                     59.852467  17.653549    0.0      0.0  1582279549\n",
       "\n",
       "[463 rows x 6 columns]"
      ]
     },
     "execution_count": 81,
     "metadata": {},
     "output_type": "execute_result"
    }
   ],
   "source": [
    "import pandas as pd\n",
    "\n",
    "vdf = pd.DataFrame.from_dict(vehicleDict,orient='index')\n",
    "vdf"
   ]
  },
  {
   "cell_type": "markdown",
   "metadata": {},
   "source": [
    "## Density function of all 463 timestamps"
   ]
  },
  {
   "cell_type": "code",
   "execution_count": 87,
   "metadata": {},
   "outputs": [
    {
     "data": {
      "text/plain": [
       "(array([  1.,   0.,   0.,   0.,   0.,   0.,   5.,   5.,  15., 437.]),\n",
       " array([1.58227907e+09, 1.58227912e+09, 1.58227917e+09, 1.58227922e+09,\n",
       "        1.58227927e+09, 1.58227932e+09, 1.58227937e+09, 1.58227942e+09,\n",
       "        1.58227947e+09, 1.58227952e+09, 1.58227956e+09]),\n",
       " <a list of 10 Patch objects>)"
      ]
     },
     "execution_count": 87,
     "metadata": {},
     "output_type": "execute_result"
    },
    {
     "data": {
      "image/png": "[encoded data removed]",
      "text/plain": [
       "<Figure size 432x288 with 1 Axes>"
      ]
     },
     "metadata": {
      "needs_background": "light"
     },
     "output_type": "display_data"
    }
   ],
   "source": [
    "import matplotlib.pyplot as plt\n",
    "import seaborn as sns\n",
    "\n",
    "plt.hist(vdf['timestamp'], color = 'blue', edgecolor = 'black')"
   ]
  }
 ],
 "metadata": {
  "kernelspec": {
   "display_name": "Python 3",
   "language": "python",
   "name": "python3"
  },
  "language_info": {
   "codemirror_mode": {
    "name": "ipython",
    "version": 3
   },
   "file_extension": ".py",
   "mimetype": "text/x-python",
   "name": "python",
   "nbconvert_exporter": "python",
   "pygments_lexer": "ipython3",
   "version": "3.7.4"
  }
 },
 "nbformat": 4,
 "nbformat_minor": 4
}
