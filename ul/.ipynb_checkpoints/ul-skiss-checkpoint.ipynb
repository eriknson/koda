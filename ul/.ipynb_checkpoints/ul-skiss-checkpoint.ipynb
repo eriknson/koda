{
 "cells": [
  {
   "cell_type": "code",
   "execution_count": 7,
   "metadata": {},
   "outputs": [],
   "source": [
    "import matplotlib.pyplot as plt\n",
    "import networkx as nx\n",
    "import csv\n",
    "\n",
    "# Establish variables to be filled with public transport data\n",
    "stops = {}\n",
    "stopsOnTrip = {}\n",
    "routes = {}\n",
    "\n",
    "# Load metadata about each stop (hållplats) in Uppsala\n",
    "with open('./gtfs_static_data_ul/stops.csv') as file:\n",
    "    reader = csv.DictReader(file)\n",
    "    # Create dictionary key for each row in stops.csv with values on name, latitude and longitude\n",
    "    for row in reader:\n",
    "        stops[row['stop_id']] = {'stop_name': row['stop_name'],\n",
    "                                 'stop_lat': row['stop_lat'], 'stop_lon': row['stop_lon']}\n",
    "\n",
    "# Load data on when all trips (avgångar) pass each stop (hållplats) in Uppsala\n",
    "with open('./gtfs_static_data_ul/stop_times.csv') as file:\n",
    "    reader1 = csv.DictReader(file)\n",
    "    # Loops through stop_times.csv and creates dictionary with stops per unique trip\n",
    "    for row in reader1:\n",
    "        if row['trip_id'] not in stopsOnTrip:\n",
    "            stopsOnTrip[row['trip_id']] = [stops[row['stop_id']]]\n",
    "        if row['trip_id'] in stopsOnTrip:\n",
    "            stopsOnTrip[row['trip_id']].append(stops[row['stop_id']])\n",
    "\n",
    "# Load data on all trips (avgångar) in Uppsala\n",
    "with open('./gtfs_static_data_ul/trips.csv') as file:\n",
    "    reader2 = csv.DictReader(file)\n",
    "    # Loops through trips.csv and creates dictionary with the first trip per unique route\n",
    "    for row in reader2:\n",
    "        if row['route_id'] not in routes:\n",
    "            routes[row['route_id']] = stopsOnTrip[row['trip_id']]\n",
    "     \n",
    "G = nx.Graph()\n",
    "\n",
    "#G.add_nodes_from(stops)"
   ]
  },
  {
   "cell_type": "code",
   "execution_count": 11,
   "metadata": {},
   "outputs": [
    {
     "name": "stdout",
     "output_type": "stream",
     "text": [
      "{'stop_name': 'Romstarbo', 'stop_lat': '60.159935', 'stop_lon': '17.649040'}\n"
     ]
    }
   ],
   "source": [
    "print(stops['9021003760429000'])"
   ]
  },
  {
   "cell_type": "code",
   "execution_count": 40,
   "metadata": {},
   "outputs": [],
   "source": [
    "for route in routes:\n",
    "    for stop in routes[route]:\n",
    "        G.add_node(stop['stop_name'],stop_lat=stop['stop_lat'],stop_lon=stop['stop_lon'])"
   ]
  },
  {
   "cell_type": "code",
   "execution_count": 105,
   "metadata": {},
   "outputs": [],
   "source": [
    "H = nx.Graph()\n",
    "\n",
    "def createGraphFromRoute(id):\n",
    "    for i,stop in enumerate(routes[id]):\n",
    "        if i+1 < len(routes[id]):\n",
    "            print(routes[id][i+1]['stop_name'])\n",
    "            H.add_edge((routes[id][i],routes[id][i+1]),weight=4.5)\n",
    "    nx.draw(H)"
   ]
  },
  {
   "cell_type": "code",
   "execution_count": 106,
   "metadata": {},
   "outputs": [
    {
     "name": "stdout",
     "output_type": "stream",
     "text": [
      "{'stop_name': 'Nova Park (Alsike) (Knivsta)', 'stop_lat': '59.740682', 'stop_lon': '17.814290'}\n",
      "{'stop_name': 'Uppsala Centralstationen (Uppsala)', 'stop_lat': '59.857282', 'stop_lon': '17.648266'}\n"
     ]
    },
    {
     "ename": "TypeError",
     "evalue": "add_edge() missing 1 required positional argument: 'v_of_edge'",
     "output_type": "error",
     "traceback": [
      "\u001b[0;31m---------------------------------------------------------------------------\u001b[0m",
      "\u001b[0;31mTypeError\u001b[0m                                 Traceback (most recent call last)",
      "\u001b[0;32m<ipython-input-106-60a5d4037bcb>\u001b[0m in \u001b[0;36m<module>\u001b[0;34m\u001b[0m\n\u001b[1;32m      1\u001b[0m \u001b[0mprint\u001b[0m\u001b[0;34m(\u001b[0m\u001b[0mroutes\u001b[0m\u001b[0;34m[\u001b[0m\u001b[0;34m'9011001059300000'\u001b[0m\u001b[0;34m]\u001b[0m\u001b[0;34m[\u001b[0m\u001b[0;36m2\u001b[0m\u001b[0;34m]\u001b[0m\u001b[0;34m)\u001b[0m\u001b[0;34m\u001b[0m\u001b[0;34m\u001b[0m\u001b[0m\n\u001b[1;32m      2\u001b[0m \u001b[0;34m\u001b[0m\u001b[0m\n\u001b[0;32m----> 3\u001b[0;31m \u001b[0mcreateGraphFromRoute\u001b[0m\u001b[0;34m(\u001b[0m\u001b[0;34m'9011001059300000'\u001b[0m\u001b[0;34m)\u001b[0m\u001b[0;34m\u001b[0m\u001b[0;34m\u001b[0m\u001b[0m\n\u001b[0m",
      "\u001b[0;32m<ipython-input-105-cd6e2de98c9f>\u001b[0m in \u001b[0;36mcreateGraphFromRoute\u001b[0;34m(id)\u001b[0m\n\u001b[1;32m      5\u001b[0m         \u001b[0;32mif\u001b[0m \u001b[0mi\u001b[0m\u001b[0;34m+\u001b[0m\u001b[0;36m1\u001b[0m \u001b[0;34m<\u001b[0m \u001b[0mlen\u001b[0m\u001b[0;34m(\u001b[0m\u001b[0mroutes\u001b[0m\u001b[0;34m[\u001b[0m\u001b[0mid\u001b[0m\u001b[0;34m]\u001b[0m\u001b[0;34m)\u001b[0m\u001b[0;34m:\u001b[0m\u001b[0;34m\u001b[0m\u001b[0;34m\u001b[0m\u001b[0m\n\u001b[1;32m      6\u001b[0m             \u001b[0mprint\u001b[0m\u001b[0;34m(\u001b[0m\u001b[0mroutes\u001b[0m\u001b[0;34m[\u001b[0m\u001b[0mid\u001b[0m\u001b[0;34m]\u001b[0m\u001b[0;34m[\u001b[0m\u001b[0mi\u001b[0m\u001b[0;34m+\u001b[0m\u001b[0;36m1\u001b[0m\u001b[0;34m]\u001b[0m\u001b[0;34m)\u001b[0m\u001b[0;34m\u001b[0m\u001b[0;34m\u001b[0m\u001b[0m\n\u001b[0;32m----> 7\u001b[0;31m             \u001b[0mH\u001b[0m\u001b[0;34m.\u001b[0m\u001b[0madd_edge\u001b[0m\u001b[0;34m(\u001b[0m\u001b[0;34m(\u001b[0m\u001b[0mroutes\u001b[0m\u001b[0;34m[\u001b[0m\u001b[0mid\u001b[0m\u001b[0;34m]\u001b[0m\u001b[0;34m[\u001b[0m\u001b[0mi\u001b[0m\u001b[0;34m]\u001b[0m\u001b[0;34m,\u001b[0m\u001b[0mroutes\u001b[0m\u001b[0;34m[\u001b[0m\u001b[0mid\u001b[0m\u001b[0;34m]\u001b[0m\u001b[0;34m[\u001b[0m\u001b[0mi\u001b[0m\u001b[0;34m+\u001b[0m\u001b[0;36m1\u001b[0m\u001b[0;34m]\u001b[0m\u001b[0;34m)\u001b[0m\u001b[0;34m,\u001b[0m\u001b[0mweight\u001b[0m\u001b[0;34m=\u001b[0m\u001b[0;36m4.5\u001b[0m\u001b[0;34m)\u001b[0m\u001b[0;34m\u001b[0m\u001b[0;34m\u001b[0m\u001b[0m\n\u001b[0m\u001b[1;32m      8\u001b[0m     \u001b[0mnx\u001b[0m\u001b[0;34m.\u001b[0m\u001b[0mdraw\u001b[0m\u001b[0;34m(\u001b[0m\u001b[0mH\u001b[0m\u001b[0;34m)\u001b[0m\u001b[0;34m\u001b[0m\u001b[0;34m\u001b[0m\u001b[0m\n",
      "\u001b[0;31mTypeError\u001b[0m: add_edge() missing 1 required positional argument: 'v_of_edge'"
     ]
    }
   ],
   "source": [
    "print(routes['9011001059300000'][2])\n",
    "\n",
    "createGraphFromRoute('9011001059300000')"
   ]
  },
  {
   "cell_type": "code",
   "execution_count": 95,
   "metadata": {},
   "outputs": [
    {
     "name": "stdout",
     "output_type": "stream",
     "text": [
      "[]\n"
     ]
    }
   ],
   "source": [
    "print(H.nodes(data=True))"
   ]
  },
  {
   "cell_type": "code",
   "execution_count": 28,
   "metadata": {},
   "outputs": [
    {
     "data": {
      "image/png": "[encoded data removed]",
      "text/plain": [
       "<Figure size 432x288 with 1 Axes>"
      ]
     },
     "metadata": {},
     "output_type": "display_data"
    }
   ],
   "source": [
    "G.add_nodes_from([(key, {'attributes': values}) for (key, values) in stops.items()])\n",
    "nx.draw_networkx(G)"
   ]
  },
  {
   "cell_type": "code",
   "execution_count": null,
   "metadata": {},
   "outputs": [],
   "source": []
  }
 ],
 "metadata": {
  "kernelspec": {
   "display_name": "Python 3",
   "language": "python",
   "name": "python3"
  },
  "language_info": {
   "codemirror_mode": {
    "name": "ipython",
    "version": 3
   },
   "file_extension": ".py",
   "mimetype": "text/x-python",
   "name": "python",
   "nbconvert_exporter": "python",
   "pygments_lexer": "ipython3",
   "version": "3.7.4"
  }
 },
 "nbformat": 4,
 "nbformat_minor": 2
}
