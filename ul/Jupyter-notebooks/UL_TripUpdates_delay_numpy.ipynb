{
 "cells": [
  {
   "cell_type": "code",
   "execution_count": 18,
   "metadata": {},
   "outputs": [],
   "source": [
    "from google.transit import gtfs_realtime_pb2\n",
    "import numpy as np\n",
    "import gzip\n",
    "import os\n",
    "import datetime\n",
    "\n",
    "directory = '../data/30-small/'\n",
    "datapoints = np.empty((0,3), int)\n",
    "\n",
    "# Loop through all files in directory\n",
    "for filename in os.listdir(directory):\n",
    "    if (filename != '.DS_Store'):\n",
    "        \n",
    "        # Uncompress and parse protobuff-file using gtfs_realtime_pb2\n",
    "        with gzip.open(directory + filename, 'rb') as file:\n",
    "            response = file.read()\n",
    "            feed = gtfs_realtime_pb2.FeedMessage()\n",
    "            feed.ParseFromString(response)\n",
    "            \n",
    "            # Loop through each entity (trip) in each feed / file. Every trip contains many stop_time_updates\n",
    "            for trip in feed.entity:\n",
    "                \n",
    "                # Loop through all stop_time_update(s) of currently looped trip\n",
    "                for i, stop_time_update in enumerate(trip.trip_update.stop_time_update):\n",
    "                    \n",
    "                    # Excluding the last stop as it does not have a \"departuring edge\"\n",
    "                    if (i<len(trip.trip_update.stop_time_update)-1):\n",
    "                        \n",
    "                        # Store contextual metadata for the unique delay data point\n",
    "                        ts = int(trip.trip_update.stop_time_update[i+1].arrival.time)\n",
    "                        stop_id1 = trip.trip_update.stop_time_update[i].stop_id\n",
    "                        stop_id2 = trip.trip_update.stop_time_update[i+1].stop_id\n",
    "                        key = int(str(trip.trip_update.stop_time_update[i].stop_id) + str(trip.trip_update.stop_time_update[i+1].stop_id))\n",
    "                        \n",
    "                        # Store the delay data point\n",
    "                        delay = int(trip.trip_update.stop_time_update[i+1].arrival.delay-trip.trip_update.stop_time_update[i].arrival.delay)\n",
    "                        \n",
    "                        datapoints = np.append(datapoints, np.array([[key,ts,delay]]), axis=0)"
   ]
  },
  {
   "cell_type": "code",
   "execution_count": 34,
   "metadata": {},
   "outputs": [
    {
     "data": {
      "text/html": [
       "<div>\n",
       "<style scoped>\n",
       "    .dataframe tbody tr th:only-of-type {\n",
       "        vertical-align: middle;\n",
       "    }\n",
       "\n",
       "    .dataframe tbody tr th {\n",
       "        vertical-align: top;\n",
       "    }\n",
       "\n",
       "    .dataframe thead th {\n",
       "        text-align: right;\n",
       "    }\n",
       "</style>\n",
       "<table border=\"1\" class=\"dataframe\">\n",
       "  <thead>\n",
       "    <tr style=\"text-align: right;\">\n",
       "      <th></th>\n",
       "      <th>Timestamp</th>\n",
       "      <th>Delay</th>\n",
       "    </tr>\n",
       "  </thead>\n",
       "  <tbody>\n",
       "    <tr>\n",
       "      <td>90220037931390029022003660600002</td>\n",
       "      <td>1580424310</td>\n",
       "      <td>-81</td>\n",
       "    </tr>\n",
       "    <tr>\n",
       "      <td>90220037812240029022003781221002</td>\n",
       "      <td>1580424223</td>\n",
       "      <td>-2</td>\n",
       "    </tr>\n",
       "    <tr>\n",
       "      <td>90220037812210029022003781051002</td>\n",
       "      <td>1580424282</td>\n",
       "      <td>20</td>\n",
       "    </tr>\n",
       "    <tr>\n",
       "      <td>90220037810510029022003781216002</td>\n",
       "      <td>1580424336</td>\n",
       "      <td>-7</td>\n",
       "    </tr>\n",
       "    <tr>\n",
       "      <td>90220037812160029022003781210001</td>\n",
       "      <td>1580424450</td>\n",
       "      <td>-69</td>\n",
       "    </tr>\n",
       "    <tr>\n",
       "      <td>...</td>\n",
       "      <td>...</td>\n",
       "      <td>...</td>\n",
       "    </tr>\n",
       "    <tr>\n",
       "      <td>90220037000520029022003700051002</td>\n",
       "      <td>1580426401</td>\n",
       "      <td>0</td>\n",
       "    </tr>\n",
       "    <tr>\n",
       "      <td>90220037000510029022003700008002</td>\n",
       "      <td>1580426520</td>\n",
       "      <td>0</td>\n",
       "    </tr>\n",
       "    <tr>\n",
       "      <td>90220037000080029022003700445004</td>\n",
       "      <td>1580426627</td>\n",
       "      <td>0</td>\n",
       "    </tr>\n",
       "    <tr>\n",
       "      <td>90220037004450049022003700444002</td>\n",
       "      <td>1580426728</td>\n",
       "      <td>0</td>\n",
       "    </tr>\n",
       "    <tr>\n",
       "      <td>90220037004440029022003700441001</td>\n",
       "      <td>1580426820</td>\n",
       "      <td>0</td>\n",
       "    </tr>\n",
       "  </tbody>\n",
       "</table>\n",
       "<p>17296 rows × 2 columns</p>\n",
       "</div>"
      ],
      "text/plain": [
       "                                   Timestamp Delay\n",
       "90220037931390029022003660600002  1580424310   -81\n",
       "90220037812240029022003781221002  1580424223    -2\n",
       "90220037812210029022003781051002  1580424282    20\n",
       "90220037810510029022003781216002  1580424336    -7\n",
       "90220037812160029022003781210001  1580424450   -69\n",
       "...                                      ...   ...\n",
       "90220037000520029022003700051002  1580426401     0\n",
       "90220037000510029022003700008002  1580426520     0\n",
       "90220037000080029022003700445004  1580426627     0\n",
       "90220037004450049022003700444002  1580426728     0\n",
       "90220037004440029022003700441001  1580426820     0\n",
       "\n",
       "[17296 rows x 2 columns]"
      ]
     },
     "execution_count": 34,
     "metadata": {},
     "output_type": "execute_result"
    }
   ],
   "source": [
    "import pandas as pd\n",
    "\n",
    "ID_col = datapoints[:,0]\n",
    "TS_col = datapoints[:,1]\n",
    "Delay_col = datapoints[:,2]\n",
    "\n",
    "d = {'Timestamp': TS_col, 'Delay': Delay_col}\n",
    "\n",
    "df = pd.DataFrame(data=d,index=ID_col)\n",
    "df"
   ]
  },
  {
   "cell_type": "code",
   "execution_count": 22,
   "metadata": {},
   "outputs": [
    {
     "data": {
      "text/plain": [
       "array([90220037931390029022003660600002, 90220037812240029022003781221002,\n",
       "       90220037812210029022003781051002, ...,\n",
       "       90220037000080029022003700445004, 90220037004450049022003700444002,\n",
       "       90220037004440029022003700441001], dtype=object)"
      ]
     },
     "execution_count": 22,
     "metadata": {},
     "output_type": "execute_result"
    }
   ],
   "source": []
  },
  {
   "cell_type": "code",
   "execution_count": 9,
   "metadata": {},
   "outputs": [],
   "source": [
    "arr = np.append(arr, np.array([[2,24,33,44]]), axis=0)"
   ]
  },
  {
   "cell_type": "code",
   "execution_count": 10,
   "metadata": {},
   "outputs": [
    {
     "data": {
      "text/plain": [
       "array([[ 1,  2,  3,  4],\n",
       "       [ 2, 24, 33, 44]])"
      ]
     },
     "execution_count": 10,
     "metadata": {},
     "output_type": "execute_result"
    }
   ],
   "source": [
    "arr"
   ]
  },
  {
   "cell_type": "code",
   "execution_count": 13,
   "metadata": {},
   "outputs": [
    {
     "data": {
      "text/plain": [
       "array([[ 1,  2,  3,  4],\n",
       "       [ 2, 24, 33, 44]])"
      ]
     },
     "execution_count": 13,
     "metadata": {},
     "output_type": "execute_result"
    }
   ],
   "source": [
    "arr"
   ]
  },
  {
   "cell_type": "code",
   "execution_count": null,
   "metadata": {},
   "outputs": [],
   "source": []
  }
 ],
 "metadata": {
  "kernelspec": {
   "display_name": "Python 3",
   "language": "python",
   "name": "python3"
  },
  "language_info": {
   "codemirror_mode": {
    "name": "ipython",
    "version": 3
   },
   "file_extension": ".py",
   "mimetype": "text/x-python",
   "name": "python",
   "nbconvert_exporter": "python",
   "pygments_lexer": "ipython3",
   "version": "3.7.4"
  }
 },
 "nbformat": 4,
 "nbformat_minor": 2
}
